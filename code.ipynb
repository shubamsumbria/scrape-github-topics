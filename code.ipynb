{
  "nbformat": 4,
  "nbformat_minor": 0,
  "metadata": {
    "colab": {
      "name": "code.ipynb",
      "provenance": [],
      "collapsed_sections": []
    },
    "kernelspec": {
      "name": "python3",
      "display_name": "Python 3"
    },
    "language_info": {
      "name": "python"
    }
  },
  "cells": [
    {
      "cell_type": "markdown",
      "metadata": {
        "id": "yXk1gTUIQxBs"
      },
      "source": [
        "# Building a Python Web Scraping Project From Scratch\n"
      ]
    },
    {
      "cell_type": "markdown",
      "metadata": {
        "id": "f5E_Lk5FqlPo"
      },
      "source": [
        "**Steps:**\n",
        "- Scrape https://github.com/topics\n",
        "- Get a list of all topics. For each topic, get topic title, topic page URL and topic description\n",
        "- For each topic, Get the top 25 repositories in the topic from the topic page\n",
        "- For each repository, Grab the repo name, username, stars and repo URL\n",
        "- At last create a CSV file by compling all scraped data"
      ]
    },
    {
      "cell_type": "markdown",
      "metadata": {
        "id": "ETwgmiEVQ6e8"
      },
      "source": [
        "## Scraping Popular GitHub Topics\n",
        "- `requests` to downlaod the page\n",
        "- `BeautifulSoup` to parse and extract information\n",
        "- `Pandas` to convert into dataframe"
      ]
    },
    {
      "cell_type": "markdown",
      "metadata": {
        "id": "dxJDYtuKmtwK"
      },
      "source": [
        "Format of Final Topics Dataframe\n",
        "Attributes:\n",
        "1. `title` - Name of the topic - [3D]\n",
        "\n",
        "2. `description` - Description of that topics - [3D modeling uses specialized software to create a digital model of a physical object. It is an aspect of 3D computer graphics, used for video games, 3D printing, and VR, among other applications.]\n",
        "3. `url` - URL of that topic - [https://github.com/topics/3d]"
      ]
    },
    {
      "cell_type": "markdown",
      "metadata": {
        "id": "l61DhV4rRV2y"
      },
      "source": [
        "#### Importing required libraries"
      ]
    },
    {
      "cell_type": "code",
      "metadata": {
        "id": "qRt03xCDRRFl"
      },
      "source": [
        "import requests\n",
        "from bs4 import BeautifulSoup\n",
        "import pandas as pd"
      ],
      "execution_count": 155,
      "outputs": []
    },
    {
      "cell_type": "markdown",
      "metadata": {
        "id": "bfC2KqaeSelW"
      },
      "source": [
        "#### Function to Get Topic Page from Github Using `requests` Library"
      ]
    },
    {
      "cell_type": "code",
      "metadata": {
        "id": "14E41nOCRO5Y"
      },
      "source": [
        "def get_topics_page(topics_url):\n",
        "    response = requests.get(topics_url)\n",
        "    if response.status_code != 200:\n",
        "        raise Exception('Failed to load page {}'.format(topics_url))\n",
        "    page = BeautifulSoup(response.text, 'html.parser')\n",
        "    return page"
      ],
      "execution_count": 156,
      "outputs": []
    },
    {
      "cell_type": "markdown",
      "metadata": {
        "id": "WTMl3iNrSp_a"
      },
      "source": [
        "#### Function to Get Popular Topic's Title"
      ]
    },
    {
      "cell_type": "code",
      "metadata": {
        "id": "ui6PVb5oRuPY"
      },
      "source": [
        "def get_topic_titles(page):\n",
        "    topic_title_tags = page.find_all('p', {'class': 'f3 lh-condensed mb-0 mt-1 Link--primary'})\n",
        "    topic_titles = []\n",
        "    for tag in topic_title_tags:\n",
        "        topic_titles.append(tag.text.strip())\n",
        "    return topic_titles"
      ],
      "execution_count": 157,
      "outputs": []
    },
    {
      "cell_type": "markdown",
      "metadata": {
        "id": "AVJT-vOhS_5B"
      },
      "source": [
        "#### Function to Get Topic's Discription"
      ]
    },
    {
      "cell_type": "code",
      "metadata": {
        "id": "LsVyzeADRuZU"
      },
      "source": [
        "def get_topic_descs(page):\n",
        "    topic_desc_tags = page.find_all('p', {'class': 'f5 color-text-secondary mb-0 mt-1'})\n",
        "    topic_descs = []\n",
        "    for tag in topic_desc_tags:\n",
        "        topic_descs.append(tag.text.strip())\n",
        "    return topic_descs"
      ],
      "execution_count": 158,
      "outputs": []
    },
    {
      "cell_type": "markdown",
      "metadata": {
        "id": "Xm1IgfqOXHpm"
      },
      "source": [
        "#### Function to Get Topic's URL"
      ]
    },
    {
      "cell_type": "code",
      "metadata": {
        "id": "xO6utDGvSD2c"
      },
      "source": [
        "def get_topic_urls(page):\n",
        "    topic_link_tags = page.find_all('a', {'class': 'd-flex no-underline'})\n",
        "    topic_urls = []\n",
        "    for tag in topic_link_tags:\n",
        "        topic_urls.append('https://github.com' + tag['href'])\n",
        "    return topic_urls"
      ],
      "execution_count": 159,
      "outputs": []
    },
    {
      "cell_type": "markdown",
      "metadata": {
        "id": "26eg1SsmTIpg"
      },
      "source": [
        "#### Scraping all Data and Formating It Into CSV File"
      ]
    },
    {
      "cell_type": "code",
      "metadata": {
        "id": "Jt2WEQiCSGef"
      },
      "source": [
        "def scrape_topics(topics_url):\n",
        "    page = get_topics_page(topics_url)\n",
        "    topics_dict = {\n",
        "        'title': get_topic_titles(page),\n",
        "        'description': get_topic_descs(page),\n",
        "        'url': get_topic_urls(page)\n",
        "    }\n",
        "    return pd.DataFrame(topics_dict)"
      ],
      "execution_count": 160,
      "outputs": []
    },
    {
      "cell_type": "markdown",
      "metadata": {
        "id": "cUa0fh7hjeIQ"
      },
      "source": [
        "##### Scraping All Existing Topic Pages and Compile Them Into Single CSV File"
      ]
    },
    {
      "cell_type": "code",
      "metadata": {
        "id": "vWKPLaeBaXvz"
      },
      "source": [
        "pages = [1, 2, 3, 4, 5, 6, 7]\n",
        "topics_df = pd.DataFrame()\n",
        "for i in pages:\n",
        "    topics = scrape_topics(\"https://github.com/topics?page=\"+str(i))\n",
        "    topics_df = topics_df.append(topics, ignore_index = True)"
      ],
      "execution_count": 161,
      "outputs": []
    },
    {
      "cell_type": "code",
      "metadata": {
        "colab": {
          "base_uri": "https://localhost:8080/",
          "height": 343
        },
        "id": "hc5YWazehIIg",
        "outputId": "9e9ae963-00aa-4027-cf90-499b416a0a7f"
      },
      "source": [
        "topics_df[:10]"
      ],
      "execution_count": 162,
      "outputs": [
        {
          "output_type": "execute_result",
          "data": {
            "text/html": [
              "<div>\n",
              "<style scoped>\n",
              "    .dataframe tbody tr th:only-of-type {\n",
              "        vertical-align: middle;\n",
              "    }\n",
              "\n",
              "    .dataframe tbody tr th {\n",
              "        vertical-align: top;\n",
              "    }\n",
              "\n",
              "    .dataframe thead th {\n",
              "        text-align: right;\n",
              "    }\n",
              "</style>\n",
              "<table border=\"1\" class=\"dataframe\">\n",
              "  <thead>\n",
              "    <tr style=\"text-align: right;\">\n",
              "      <th></th>\n",
              "      <th>title</th>\n",
              "      <th>description</th>\n",
              "      <th>url</th>\n",
              "    </tr>\n",
              "  </thead>\n",
              "  <tbody>\n",
              "    <tr>\n",
              "      <th>0</th>\n",
              "      <td>3D</td>\n",
              "      <td>3D modeling is the process of virtually develo...</td>\n",
              "      <td>https://github.com/topics/3d</td>\n",
              "    </tr>\n",
              "    <tr>\n",
              "      <th>1</th>\n",
              "      <td>Ajax</td>\n",
              "      <td>Ajax is a technique for creating interactive w...</td>\n",
              "      <td>https://github.com/topics/ajax</td>\n",
              "    </tr>\n",
              "    <tr>\n",
              "      <th>2</th>\n",
              "      <td>Algorithm</td>\n",
              "      <td>Algorithms are self-contained sequences that c...</td>\n",
              "      <td>https://github.com/topics/algorithm</td>\n",
              "    </tr>\n",
              "    <tr>\n",
              "      <th>3</th>\n",
              "      <td>Amp</td>\n",
              "      <td>Amp is a non-blocking concurrency framework fo...</td>\n",
              "      <td>https://github.com/topics/amphp</td>\n",
              "    </tr>\n",
              "    <tr>\n",
              "      <th>4</th>\n",
              "      <td>Android</td>\n",
              "      <td>Android is an operating system built by Google...</td>\n",
              "      <td>https://github.com/topics/android</td>\n",
              "    </tr>\n",
              "    <tr>\n",
              "      <th>5</th>\n",
              "      <td>Angular</td>\n",
              "      <td>Angular is an open source web application plat...</td>\n",
              "      <td>https://github.com/topics/angular</td>\n",
              "    </tr>\n",
              "    <tr>\n",
              "      <th>6</th>\n",
              "      <td>Ansible</td>\n",
              "      <td>Ansible is a simple and powerful automation en...</td>\n",
              "      <td>https://github.com/topics/ansible</td>\n",
              "    </tr>\n",
              "    <tr>\n",
              "      <th>7</th>\n",
              "      <td>API</td>\n",
              "      <td>An API (Application Programming Interface) is ...</td>\n",
              "      <td>https://github.com/topics/api</td>\n",
              "    </tr>\n",
              "    <tr>\n",
              "      <th>8</th>\n",
              "      <td>Arduino</td>\n",
              "      <td>Arduino is an open source hardware and softwar...</td>\n",
              "      <td>https://github.com/topics/arduino</td>\n",
              "    </tr>\n",
              "    <tr>\n",
              "      <th>9</th>\n",
              "      <td>ASP.NET</td>\n",
              "      <td>ASP.NET is a web framework for building modern...</td>\n",
              "      <td>https://github.com/topics/aspnet</td>\n",
              "    </tr>\n",
              "  </tbody>\n",
              "</table>\n",
              "</div>"
            ],
            "text/plain": [
              "       title  ...                                  url\n",
              "0         3D  ...         https://github.com/topics/3d\n",
              "1       Ajax  ...       https://github.com/topics/ajax\n",
              "2  Algorithm  ...  https://github.com/topics/algorithm\n",
              "3        Amp  ...      https://github.com/topics/amphp\n",
              "4    Android  ...    https://github.com/topics/android\n",
              "5    Angular  ...    https://github.com/topics/angular\n",
              "6    Ansible  ...    https://github.com/topics/ansible\n",
              "7        API  ...        https://github.com/topics/api\n",
              "8    Arduino  ...    https://github.com/topics/arduino\n",
              "9    ASP.NET  ...     https://github.com/topics/aspnet\n",
              "\n",
              "[10 rows x 3 columns]"
            ]
          },
          "metadata": {
            "tags": []
          },
          "execution_count": 162
        }
      ]
    },
    {
      "cell_type": "code",
      "metadata": {
        "colab": {
          "base_uri": "https://localhost:8080/"
        },
        "id": "TcsLJaYwmYvh",
        "outputId": "0ce097ee-f7fe-443c-e450-ed4a33415016"
      },
      "source": [
        "len(topics_df)"
      ],
      "execution_count": 163,
      "outputs": [
        {
          "output_type": "execute_result",
          "data": {
            "text/plain": [
              "181"
            ]
          },
          "metadata": {
            "tags": []
          },
          "execution_count": 163
        }
      ]
    },
    {
      "cell_type": "markdown",
      "metadata": {
        "id": "8TFUuWZ_jzB5"
      },
      "source": [
        "\n",
        "\n",
        "---\n",
        "\n"
      ]
    },
    {
      "cell_type": "markdown",
      "metadata": {
        "id": "_KuMTLOdiCMP"
      },
      "source": [
        "## Get the Top 25 Repositories Under Each Topic\n",
        "For each repository, we'll grab the repo name, username, stars and repo URL\n",
        "Format of Final Topics Dataframe Attributes:\n",
        "- `repo_name` - Name of the repository\n",
        "- `username` - Owner of that repository\n",
        "- `stars` - Stars on that repository\n",
        "- `repo_url` - URL of that repository"
      ]
    }
  ]
}